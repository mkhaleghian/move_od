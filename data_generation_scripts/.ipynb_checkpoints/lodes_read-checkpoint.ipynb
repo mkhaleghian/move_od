{
 "cells": [
  {
   "cell_type": "code",
   "execution_count": 1,
   "metadata": {},
   "outputs": [],
   "source": [
    "import geopandas as gpd\n",
    "import pandas as pd"
   ]
  },
  {
   "cell_type": "code",
   "execution_count": 3,
   "metadata": {},
   "outputs": [],
   "source": [
    "#loading parts of the available data\n",
    "#these files are not included here, canbe downloaded from: https://lehd.ces.census.gov/data/lodes/LODES7/tn/od/\n",
    "df1 = pd.read_csv('../data/lodes/tn_od_main_JT00_2019.csv').rename(columns = {'S000':'total_jobs'})\n",
    "df2 = pd.read_csv('../data/lodes/tn_od_main_JT01_2019.csv').rename(columns = {'S000':'total_jobs'})\n",
    "df3 = pd.read_csv('../data/lodes/tn_od_main_JT02_2019.csv').rename(columns = {'S000':'total_jobs'})\n",
    "df4 = pd.read_csv('../data/lodes/tn_od_main_JT03_2019.csv').rename(columns = {'S000':'total_jobs'})\n",
    "df5 = pd.read_csv('../data/lodes/tn_od_main_JT04_2019.csv').rename(columns = {'S000':'total_jobs'})\n",
    "df6 = pd.read_csv('../data/lodes/tn_od_main_JT05_2019.csv').rename(columns = {'S000':'total_jobs'})"
   ]
  },
  {
   "cell_type": "code",
   "execution_count": 4,
   "metadata": {},
   "outputs": [],
   "source": [
    "#appending all the sources\n",
    "df = df1.append(df2).append(df3).append(df4).append(df5).append(df6)"
   ]
  },
  {
   "cell_type": "code",
   "execution_count": 5,
   "metadata": {},
   "outputs": [
    {
     "name": "stderr",
     "output_type": "stream",
     "text": [
      "c:\\Users\\senr1\\AppData\\Local\\Programs\\Python\\Python37\\lib\\site-packages\\pandas\\core\\generic.py:5516: SettingWithCopyWarning: \n",
      "A value is trying to be set on a copy of a slice from a DataFrame.\n",
      "Try using .loc[row_indexer,col_indexer] = value instead\n",
      "\n",
      "See the caveats in the documentation: https://pandas.pydata.org/pandas-docs/stable/user_guide/indexing.html#returning-a-view-versus-a-copy\n",
      "  self[name] = value\n"
     ]
    }
   ],
   "source": [
    "#filtering out duplicates \n",
    "tn_lodes = df.drop_duplicates()\n",
    "tn_lodes.h_geocode = tn_lodes.h_geocode.astype(str)\n",
    "tn_lodes.w_geocode = tn_lodes.w_geocode.astype(str)"
   ]
  },
  {
   "cell_type": "code",
   "execution_count": 6,
   "metadata": {},
   "outputs": [],
   "source": [
    "COUNTY = '037'"
   ]
  },
  {
   "cell_type": "code",
   "execution_count": 7,
   "metadata": {},
   "outputs": [],
   "source": [
    "#read Hamilton county blocks (too large to store in github)\n",
    "# can be downloaded from : https://vanderbilt365-my.sharepoint.com/:f:/g/personal/rishav_sen_vanderbilt_edu/EuB8qV7yx3ZDoxpXq232E1cBJ1Q3Qlzr1cQOvP3UKWqmHw?e=cc1z5h\n",
    "\n",
    "\n",
    "blocks  = gpd.read_file('../data/Tennessee Census Block/tl_2020_47_tabblock20.shp')\n",
    "blocks = blocks[blocks.COUNTYFP20 == COUNTY][['GEOID20', 'geometry']]\n",
    "blocks.GEOID20 = blocks.GEOID20.astype(str)"
   ]
  },
  {
   "cell_type": "code",
   "execution_count": 8,
   "metadata": {},
   "outputs": [],
   "source": [
    "# filtering TN LODES data for blocks only in Hamilton county\n",
    "area_lodes = pd.merge(tn_lodes, blocks, left_on='h_geocode', right_on='GEOID20', how='inner').merge(blocks, left_on='w_geocode', right_on='GEOID20', how='inner').sort_values('total_jobs', ascending=False).reset_index(drop=True)"
   ]
  },
  {
   "cell_type": "code",
   "execution_count": 9,
   "metadata": {},
   "outputs": [],
   "source": [
    "# it is stored at the block level (smaller area than CBG)\n",
    "\n",
    "area_lodes.to_csv(f'../data/county_lodes_2019.csv', index=False)"
   ]
  },
  {
   "cell_type": "code",
   "execution_count": 10,
   "metadata": {},
   "outputs": [],
   "source": [
    "#additional \n",
    "\n",
    "# pd.merge(tn_lodes, blocks, left_on='h_geocode', right_on='GEOID20', how='inner').groupby('h_geocode').sum().merge(blocks, left_on='h_geocode', right_on='GEOID20', how='inner').sort_values('total_jobs', ascending=False).reset_index().to_csv('homes_blocks.csv')\n",
    "# pd.merge(tn_lodes, blocks, left_on='w_geocode', right_on='GEOID20', how='inner').groupby('w_geocode').sum().merge(blocks, left_on='w_geocode', right_on='GEOID20', how='inner').sort_values('total_jobs', ascending=False).reset_index().to_csv('work_blocks.csv')"
   ]
  },
  {
   "cell_type": "code",
   "execution_count": 11,
   "metadata": {},
   "outputs": [],
   "source": [
    "cbg  = gpd.read_file('../data/Tennessee Census Block Groups/tl_2020_47_bg.shp')\n",
    "cbg = cbg[cbg.COUNTYFP == COUNTY]\n",
    "cbg.GEOID = cbg.GEOID.astype(str)"
   ]
  },
  {
   "cell_type": "code",
   "execution_count": 12,
   "metadata": {},
   "outputs": [],
   "source": [
    "cbg.to_csv('../data/county_cbg.csv', index=False)"
   ]
  }
 ],
 "metadata": {
  "kernelspec": {
   "display_name": "Python 3 (ipykernel)",
   "language": "python",
   "name": "python3"
  },
  "language_info": {
   "codemirror_mode": {
    "name": "ipython",
    "version": 3
   },
   "file_extension": ".py",
   "mimetype": "text/x-python",
   "name": "python",
   "nbconvert_exporter": "python",
   "pygments_lexer": "ipython3",
   "version": "3.7.9"
  },
  "vscode": {
   "interpreter": {
    "hash": "c4d0005f5e14f7c00ac58c488a6489dbdddabe86817daaefe3a462e64eae13df"
   }
  }
 },
 "nbformat": 4,
 "nbformat_minor": 2
}
