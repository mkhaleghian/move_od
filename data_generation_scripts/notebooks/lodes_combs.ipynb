{
 "cells": [
  {
   "cell_type": "code",
   "execution_count": 1,
   "metadata": {},
   "outputs": [],
   "source": [
    "import pandas as pd\n",
    "import geopandas as gpd\n",
    "import numpy as np"
   ]
  },
  {
   "cell_type": "code",
   "execution_count": 2,
   "metadata": {},
   "outputs": [],
   "source": [
    "from shapely.geometry import Point\n",
    "def intpt_func(row):\n",
    "    return Point(row['INTPTLON'], row['INTPTLAT'])"
   ]
  },
  {
   "cell_type": "code",
   "execution_count": 3,
   "metadata": {},
   "outputs": [],
   "source": [
    "#loading LODES data\n",
    "\n",
    "county_lodes = pd.read_csv('../data/county_lodes_2019.csv', dtype={\"TRACTCE20_home\":\"string\", \"TRACTCE20_work\":\"string\"})\n",
    "county_lodes.h_geocode = county_lodes.h_geocode.apply(lambda x: int(x/1000))\n",
    "county_lodes.w_geocode = county_lodes.w_geocode.apply(lambda x: int(x/1000))\n",
    "county_lodes.w_geocode = county_lodes.w_geocode.astype(str)\n",
    "county_lodes.h_geocode = county_lodes.h_geocode.astype(str)\n",
    "\n",
    "#loading Hamilton county geodata\n",
    "county_cbg = pd.read_csv('../data/county_cbg.csv')\n",
    "county_cbg['intpt'] = county_cbg[['INTPTLAT', 'INTPTLON']].apply(lambda p: intpt_func(p), axis=1)\n",
    "county_cbg = gpd.GeoDataFrame(county_cbg, geometry=gpd.GeoSeries.from_wkt(county_cbg.geometry))\n",
    "county_cbg.GEOID = county_cbg.GEOID.astype(str)"
   ]
  },
  {
   "cell_type": "code",
   "execution_count": 4,
   "metadata": {},
   "outputs": [],
   "source": [
    "#loading residential buildings\n",
    "res_build = pd.read_csv('../data/county_residential_buildings.csv', index_col=0)\n",
    "res_build = gpd.GeoDataFrame(res_build, geometry=gpd.GeoSeries.from_wkt(res_build.geometry))\n",
    "res_build['location'] = res_build.geometry.apply(lambda p: [p.y, p.x])\n",
    "\n",
    "#loading work buildings\n",
    "com_build = pd.read_csv('../data/county_work_loc_poi_com_civ.csv', index_col=0)\n",
    "com_build = gpd.GeoDataFrame(com_build, geometry=gpd.GeoSeries.from_wkt(com_build.geometry))\n",
    "com_build['location'] = com_build.geometry.apply(lambda p: [p.y, p.x])\n",
    "com_build = com_build.reset_index()\n",
    "com_build.GEOID = com_build.GEOID.astype(str)\n",
    "\n",
    "#loading all buildings (MS dataset)\n",
    "ms_build = pd.read_csv('../data/county_buildings_MS.csv')\n",
    "ms_build = gpd.GeoDataFrame(ms_build, geometry=gpd.GeoSeries.from_wkt(ms_build.geo_centers))\n",
    "ms_build.GEOID = ms_build.GEOID.astype(str)\n",
    "ms_build['location'] = ms_build.geometry.apply(lambda p: [p.y, p.x])"
   ]
  },
  {
   "cell_type": "code",
   "execution_count": 5,
   "metadata": {},
   "outputs": [],
   "source": [
    "#aggregating total jobs for each combination of home and work cbg \n",
    "county_lodes = county_lodes.groupby(['h_geocode', 'w_geocode']).agg(total_jobs=('total_jobs', sum)).reset_index().merge(county_cbg[['GEOID', 'geometry']], left_on='h_geocode', right_on='GEOID').rename({'geometry':'home_geom'}, axis=1).drop('GEOID', axis=1).merge(county_cbg[['GEOID', 'geometry']], left_on='w_geocode', right_on='GEOID').rename({'geometry':'work_geom'}, axis=1).drop('GEOID', axis=1).sort_values('total_jobs', ascending=False).reset_index(drop=True)\n",
    "county_lodes = gpd.GeoDataFrame(county_lodes)"
   ]
  },
  {
   "cell_type": "code",
   "execution_count": 6,
   "metadata": {},
   "outputs": [],
   "source": [
    "def datetime_range(start, end, delta):\n",
    "    current = start\n",
    "    while current < end:\n",
    "        yield current\n",
    "        current += delta"
   ]
  },
  {
   "cell_type": "code",
   "execution_count": 7,
   "metadata": {},
   "outputs": [],
   "source": [
    "#generating array of start and return times (in 15 min intervals)\n",
    "from datetime  import datetime, timedelta\n",
    "times_morning = [datetime.strptime(dt.strftime('%H%M%S'), '%H%M%S') for dt in \n",
    "       datetime_range(datetime(2021, 9, 1, 7), datetime(2021, 9, 1, 9, 10), \n",
    "       timedelta(seconds=15))]\n",
    "times_evening = [datetime.strptime(dt.strftime('%H%M%S'), '%H%M%S') for dt in \n",
    "       datetime_range(datetime(2021, 9, 1, 16), datetime(2021, 9, 1, 18, 10), \n",
    "       timedelta(seconds=15))]"
   ]
  },
  {
   "cell_type": "code",
   "execution_count": 8,
   "metadata": {},
   "outputs": [
    {
     "data": {
      "text/plain": [
       "25275.0"
      ]
     },
     "execution_count": 8,
     "metadata": {},
     "output_type": "execute_result"
    }
   ],
   "source": [
    "(times_morning[5] - datetime(1900, 1, 1)).total_seconds()\n",
    "# times_morning[1].strftime('%H:%M:%S')"
   ]
  },
  {
   "cell_type": "code",
   "execution_count": 9,
   "metadata": {},
   "outputs": [],
   "source": [
    "res_build.GEOID = res_build.GEOID.astype(str)\n",
    "com_build.GEOID = com_build.GEOID.astype(str)"
   ]
  },
  {
   "cell_type": "code",
   "execution_count": 11,
   "metadata": {},
   "outputs": [
    {
     "data": {
      "application/vnd.jupyter.widget-view+json": {
       "model_id": "0595e392cffe4177b4ec699f596c9906",
       "version_major": 2,
       "version_minor": 0
      },
      "text/plain": [
       "  0%|          | 0/29439 [00:00<?, ?it/s]"
      ]
     },
     "metadata": {},
     "output_type": "display_data"
    }
   ],
   "source": [
    "import random\n",
    "import tqdm\n",
    "from tqdm.notebook import tqdm_notebook\n",
    "\n",
    "#setting the random seed\n",
    "np.random.seed(42)\n",
    "random.seed(42)\n",
    "\n",
    "prob_matrix = gpd.GeoDataFrame()\n",
    "for idx, movement in tqdm_notebook(county_lodes.iterrows(), total=county_lodes.shape[0]):\n",
    "\n",
    "    res = res_build[res_build.GEOID == movement.h_geocode].reset_index(drop=True)\n",
    "    if res.empty:\n",
    "        try:\n",
    "            res = ms_build[ms_build.GEOID == movement.h_geocode].sample(n=movement.total_jobs, random_state=42).reset_index(drop=True)\n",
    "        except:\n",
    "            res = ms_build[ms_build.GEOID == movement.h_geocode].sample(n=movement.total_jobs, random_state=42, replace=True).reset_index(drop=True)\n",
    "\n",
    "    com = com_build[com_build.GEOID == movement.w_geocode].reset_index(drop=True)\n",
    "    if com.empty:\n",
    "        try:\n",
    "            com = ms_build[ms_build.GEOID == movement.w_geocode].sample(n=movement.total_jobs, random_state=42).reset_index(drop=True)\n",
    "        except:\n",
    "            com = ms_build[ms_build.GEOID == movement.w_geocode].sample(n=movement.total_jobs, random_state=42, replace=True).reset_index(drop=True)\n",
    "            \n",
    "    r = res\n",
    "    c = com\n",
    "   \n",
    "    for job in range(movement.total_jobs):\n",
    "     \n",
    "        if c.empty:\n",
    "            c = com\n",
    "        if r.empty:\n",
    "            r = res\n",
    "\n",
    "        rand_r = random.randrange(0, r.shape[0])\n",
    "        rand_c = random.randrange(0, c.shape[0])\n",
    "        r_df = r.iloc[rand_r]\n",
    "        c_df = c.iloc[rand_c]\n",
    "        r = r.drop([rand_r]).reset_index(drop=True)\n",
    "        c = c.drop([rand_c]).reset_index(drop=True)\n",
    "        \n",
    "        time_slot1 = np.random.choice(times_morning, size=1, replace=True)\n",
    "        time_slot2 = np.random.choice(times_evening, size=1, replace=True)\n",
    "\n",
    "        temp = gpd.GeoDataFrame()\n",
    "\n",
    "        temp.loc[job, 'h_geocode'] = movement.h_geocode\n",
    "        temp.loc[job, 'w_geocode'] = movement.w_geocode\n",
    "        temp.loc[job, 'total_jobs'] = movement.total_jobs\n",
    "        temp.loc[job, 'home_loc_lat'] = r_df.location[0]\n",
    "        temp.loc[job, 'home_loc_lon'] = r_df.location[1]\n",
    "        temp.loc[job, 'work_loc_lat'] = c_df.location[0]\n",
    "        temp.loc[job, 'work_loc_lon'] = c_df.location[1]\n",
    "        temp.loc[job, 'go_time'] = time_slot1[0].time()\n",
    "        temp.loc[job, 'go_time_secs'] = (time_slot1[0] - datetime(1900, 1, 1)).total_seconds()\n",
    "        temp.loc[job, 'go_time_str'] = time_slot1[0].strftime('%H:%M:%S')\n",
    "        temp.loc[job, 'return_time'] = time_slot2[0].time()\n",
    "        temp.loc[job, 'return_time_secs'] = (time_slot2[0] - datetime(1900, 1, 1)).total_seconds()\n",
    "        temp.loc[job, 'return_time_str'] = time_slot2[0].strftime('%H:%M:%S')\n",
    "\n",
    "        prob_matrix = prob_matrix.append(temp, ignore_index=True)"
   ]
  },
  {
   "cell_type": "code",
   "execution_count": 12,
   "metadata": {},
   "outputs": [],
   "source": [
    "def func_home_pt(row):\n",
    "    return Point(row.home_loc_lon, row.home_loc_lat)\n",
    "def func_work_pt(row):\n",
    "    return Point(row.work_loc_lon, row.work_loc_lat)"
   ]
  },
  {
   "cell_type": "code",
   "execution_count": 13,
   "metadata": {},
   "outputs": [],
   "source": [
    "# convert the lat and lon points to shapely Points\n",
    "prob_matrix['home_geom'] = prob_matrix[['home_loc_lat', 'home_loc_lon']].apply(lambda row: func_home_pt(row), axis=1)\n",
    "prob_matrix['work_geom'] = prob_matrix[['work_loc_lat', 'work_loc_lon']].apply(lambda row: func_work_pt(row), axis=1)\n",
    "prob_matrix.h_geocode = prob_matrix.h_geocode.astype(str)\n",
    "prob_matrix.w_geocode = prob_matrix.w_geocode.astype(str)"
   ]
  },
  {
   "cell_type": "code",
   "execution_count": 14,
   "metadata": {},
   "outputs": [
    {
     "data": {
      "text/html": [
       "<div>\n",
       "<style scoped>\n",
       "    .dataframe tbody tr th:only-of-type {\n",
       "        vertical-align: middle;\n",
       "    }\n",
       "\n",
       "    .dataframe tbody tr th {\n",
       "        vertical-align: top;\n",
       "    }\n",
       "\n",
       "    .dataframe thead th {\n",
       "        text-align: right;\n",
       "    }\n",
       "</style>\n",
       "<table border=\"1\" class=\"dataframe\">\n",
       "  <thead>\n",
       "    <tr style=\"text-align: right;\">\n",
       "      <th></th>\n",
       "      <th>h_geocode</th>\n",
       "      <th>w_geocode</th>\n",
       "      <th>total_jobs</th>\n",
       "      <th>home_loc_lat</th>\n",
       "      <th>home_loc_lon</th>\n",
       "      <th>work_loc_lat</th>\n",
       "      <th>work_loc_lon</th>\n",
       "      <th>go_time</th>\n",
       "      <th>go_time_secs</th>\n",
       "      <th>go_time_str</th>\n",
       "      <th>return_time</th>\n",
       "      <th>return_time_secs</th>\n",
       "      <th>return_time_str</th>\n",
       "      <th>home_geom</th>\n",
       "      <th>work_geom</th>\n",
       "    </tr>\n",
       "  </thead>\n",
       "  <tbody>\n",
       "    <tr>\n",
       "      <th>0</th>\n",
       "      <td>470370165002</td>\n",
       "      <td>470370165002</td>\n",
       "      <td>393.0</td>\n",
       "      <td>36.144515</td>\n",
       "      <td>-86.804675</td>\n",
       "      <td>36.139164</td>\n",
       "      <td>-86.801478</td>\n",
       "      <td>07:25:30</td>\n",
       "      <td>26730.0</td>\n",
       "      <td>07:25:30</td>\n",
       "      <td>17:48:45</td>\n",
       "      <td>64125.0</td>\n",
       "      <td>17:48:45</td>\n",
       "      <td>POINT (-86.80467509713218 36.14451501842736)</td>\n",
       "      <td>POINT (-86.80147778059765 36.13916402739309)</td>\n",
       "    </tr>\n",
       "    <tr>\n",
       "      <th>1</th>\n",
       "      <td>470370165002</td>\n",
       "      <td>470370165002</td>\n",
       "      <td>393.0</td>\n",
       "      <td>36.147068</td>\n",
       "      <td>-86.804350</td>\n",
       "      <td>36.145383</td>\n",
       "      <td>-86.803053</td>\n",
       "      <td>08:07:30</td>\n",
       "      <td>29250.0</td>\n",
       "      <td>08:07:30</td>\n",
       "      <td>16:26:30</td>\n",
       "      <td>59190.0</td>\n",
       "      <td>16:26:30</td>\n",
       "      <td>POINT (-86.80435042758323 36.14706795997379)</td>\n",
       "      <td>POINT (-86.8030527333781 36.14538287515627)</td>\n",
       "    </tr>\n",
       "    <tr>\n",
       "      <th>2</th>\n",
       "      <td>470370165002</td>\n",
       "      <td>470370165002</td>\n",
       "      <td>393.0</td>\n",
       "      <td>36.139983</td>\n",
       "      <td>-86.806641</td>\n",
       "      <td>36.144534</td>\n",
       "      <td>-86.800582</td>\n",
       "      <td>07:17:45</td>\n",
       "      <td>26265.0</td>\n",
       "      <td>07:17:45</td>\n",
       "      <td>16:05:00</td>\n",
       "      <td>57900.0</td>\n",
       "      <td>16:05:00</td>\n",
       "      <td>POINT (-86.80664140025164 36.13998250452984)</td>\n",
       "      <td>POINT (-86.80058155485116 36.14453437806355)</td>\n",
       "    </tr>\n",
       "    <tr>\n",
       "      <th>3</th>\n",
       "      <td>470370165002</td>\n",
       "      <td>470370165002</td>\n",
       "      <td>393.0</td>\n",
       "      <td>36.141190</td>\n",
       "      <td>-86.805937</td>\n",
       "      <td>36.141609</td>\n",
       "      <td>-86.800945</td>\n",
       "      <td>07:30:15</td>\n",
       "      <td>27015.0</td>\n",
       "      <td>07:30:15</td>\n",
       "      <td>17:56:30</td>\n",
       "      <td>64590.0</td>\n",
       "      <td>17:56:30</td>\n",
       "      <td>POINT (-86.80593675735163 36.14119007450109)</td>\n",
       "      <td>POINT (-86.80094516529478 36.14160931321479)</td>\n",
       "    </tr>\n",
       "    <tr>\n",
       "      <th>4</th>\n",
       "      <td>470370165002</td>\n",
       "      <td>470370165002</td>\n",
       "      <td>393.0</td>\n",
       "      <td>36.145246</td>\n",
       "      <td>-86.805230</td>\n",
       "      <td>36.141086</td>\n",
       "      <td>-86.800813</td>\n",
       "      <td>07:53:30</td>\n",
       "      <td>28410.0</td>\n",
       "      <td>07:53:30</td>\n",
       "      <td>17:22:30</td>\n",
       "      <td>62550.0</td>\n",
       "      <td>17:22:30</td>\n",
       "      <td>POINT (-86.80522989365294 36.14524616558947)</td>\n",
       "      <td>POINT (-86.80081320000002 36.14108625)</td>\n",
       "    </tr>\n",
       "  </tbody>\n",
       "</table>\n",
       "</div>"
      ],
      "text/plain": [
       "      h_geocode     w_geocode  total_jobs  home_loc_lat  home_loc_lon  \\\n",
       "0  470370165002  470370165002       393.0     36.144515    -86.804675   \n",
       "1  470370165002  470370165002       393.0     36.147068    -86.804350   \n",
       "2  470370165002  470370165002       393.0     36.139983    -86.806641   \n",
       "3  470370165002  470370165002       393.0     36.141190    -86.805937   \n",
       "4  470370165002  470370165002       393.0     36.145246    -86.805230   \n",
       "\n",
       "   work_loc_lat  work_loc_lon   go_time  go_time_secs go_time_str return_time  \\\n",
       "0     36.139164    -86.801478  07:25:30       26730.0    07:25:30    17:48:45   \n",
       "1     36.145383    -86.803053  08:07:30       29250.0    08:07:30    16:26:30   \n",
       "2     36.144534    -86.800582  07:17:45       26265.0    07:17:45    16:05:00   \n",
       "3     36.141609    -86.800945  07:30:15       27015.0    07:30:15    17:56:30   \n",
       "4     36.141086    -86.800813  07:53:30       28410.0    07:53:30    17:22:30   \n",
       "\n",
       "   return_time_secs return_time_str  \\\n",
       "0           64125.0        17:48:45   \n",
       "1           59190.0        16:26:30   \n",
       "2           57900.0        16:05:00   \n",
       "3           64590.0        17:56:30   \n",
       "4           62550.0        17:22:30   \n",
       "\n",
       "                                      home_geom  \\\n",
       "0  POINT (-86.80467509713218 36.14451501842736)   \n",
       "1  POINT (-86.80435042758323 36.14706795997379)   \n",
       "2  POINT (-86.80664140025164 36.13998250452984)   \n",
       "3  POINT (-86.80593675735163 36.14119007450109)   \n",
       "4  POINT (-86.80522989365294 36.14524616558947)   \n",
       "\n",
       "                                      work_geom  \n",
       "0  POINT (-86.80147778059765 36.13916402739309)  \n",
       "1   POINT (-86.8030527333781 36.14538287515627)  \n",
       "2  POINT (-86.80058155485116 36.14453437806355)  \n",
       "3  POINT (-86.80094516529478 36.14160931321479)  \n",
       "4        POINT (-86.80081320000002 36.14108625)  "
      ]
     },
     "execution_count": 14,
     "metadata": {},
     "output_type": "execute_result"
    }
   ],
   "source": [
    "prob_matrix.head()"
   ]
  },
  {
   "cell_type": "code",
   "execution_count": 15,
   "metadata": {},
   "outputs": [],
   "source": [
    "prob_matrix.to_csv('../data/county_lodes_combinations.csv', index=False)\n",
    "# prob_matrix.to_parquet('../data/county_lodes_combinations.parquet', engine='pyarrow', index=False)"
   ]
  }
 ],
 "metadata": {
  "kernelspec": {
   "display_name": "Python 3 (ipykernel)",
   "language": "python",
   "name": "python3"
  },
  "language_info": {
   "codemirror_mode": {
    "name": "ipython",
    "version": 3
   },
   "file_extension": ".py",
   "mimetype": "text/x-python",
   "name": "python",
   "nbconvert_exporter": "python",
   "pygments_lexer": "ipython3",
   "version": "3.7.9 (tags/v3.7.9:13c94747c7, Aug 17 2020, 18:58:18) [MSC v.1900 64 bit (AMD64)]"
  },
  "vscode": {
   "interpreter": {
    "hash": "c4d0005f5e14f7c00ac58c488a6489dbdddabe86817daaefe3a462e64eae13df"
   }
  }
 },
 "nbformat": 4,
 "nbformat_minor": 2
}
