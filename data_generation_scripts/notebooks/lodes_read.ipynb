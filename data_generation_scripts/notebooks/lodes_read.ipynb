{
 "cells": [
  {
   "cell_type": "code",
   "execution_count": 2,
   "metadata": {},
   "outputs": [],
   "source": [
    "import geopandas as gpd\n",
    "import pandas as pd"
   ]
  },
  {
   "cell_type": "code",
   "execution_count": 20,
   "metadata": {},
   "outputs": [],
   "source": [
    "#loading parts of the available data\n",
    "#these files are not included here, canbe downloaded from: https://lehd.ces.census.gov/data/lodes/LODES7/tn/od/\n",
    "df1 = pd.read_csv('../data/lodes/tn_od_main_JT00_2019.csv').rename(columns = {'S000':'total_jobs'})\n",
    "df2 = pd.read_csv('../data/lodes/tn_od_main_JT01_2019.csv').rename(columns = {'S000':'total_jobs'})\n",
    "df3 = pd.read_csv('../data/lodes/tn_od_main_JT02_2019.csv').rename(columns = {'S000':'total_jobs'})\n",
    "df4 = pd.read_csv('../data/lodes/tn_od_main_JT03_2019.csv').rename(columns = {'S000':'total_jobs'})\n",
    "df5 = pd.read_csv('../data/lodes/tn_od_main_JT04_2019.csv').rename(columns = {'S000':'total_jobs'})\n",
    "df6 = pd.read_csv('../data/lodes/tn_od_main_JT05_2019.csv').rename(columns = {'S000':'total_jobs'})"
   ]
  },
  {
   "cell_type": "code",
   "execution_count": 21,
   "metadata": {},
   "outputs": [],
   "source": [
    "#appending all the sources\n",
    "df = df1.append(df2).append(df3).append(df4).append(df5).append(df6)"
   ]
  },
  {
   "cell_type": "code",
   "execution_count": 22,
   "metadata": {},
   "outputs": [
    {
     "name": "stderr",
     "output_type": "stream",
     "text": [
      "c:\\Users\\senr1\\AppData\\Local\\Programs\\Python\\Python37\\lib\\site-packages\\pandas\\core\\generic.py:5516: SettingWithCopyWarning: \n",
      "A value is trying to be set on a copy of a slice from a DataFrame.\n",
      "Try using .loc[row_indexer,col_indexer] = value instead\n",
      "\n",
      "See the caveats in the documentation: https://pandas.pydata.org/pandas-docs/stable/user_guide/indexing.html#returning-a-view-versus-a-copy\n",
      "  self[name] = value\n"
     ]
    }
   ],
   "source": [
    "#filtering out duplicates \n",
    "tn_lodes = df.drop_duplicates()\n",
    "tn_lodes.h_geocode = tn_lodes.h_geocode.astype(str)\n",
    "tn_lodes.w_geocode = tn_lodes.w_geocode.astype(str)"
   ]
  },
  {
   "cell_type": "code",
   "execution_count": 23,
   "metadata": {},
   "outputs": [],
   "source": [
    "COUNTY = '187'"
   ]
  },
  {
   "cell_type": "code",
   "execution_count": 16,
   "metadata": {},
   "outputs": [],
   "source": [
    "#read Hamilton county blocks (too large to store in github)\n",
    "# can be downloaded from : https://vanderbilt365-my.sharepoint.com/:f:/g/personal/rishav_sen_vanderbilt_edu/EuB8qV7yx3ZDoxpXq232E1cBJ1Q3Qlzr1cQOvP3UKWqmHw?e=cc1z5h\n",
    "\n",
    "\n",
    "blocks  = gpd.read_file('../data/Tennessee Census Block/tl_2020_47_tabblock20.shp')\n",
    "blocks = blocks[blocks.COUNTYFP20 == COUNTY][['GEOID20', 'geometry']]\n",
    "blocks.GEOID20 = blocks.GEOID20.astype(str)"
   ]
  },
  {
   "cell_type": "code",
   "execution_count": 24,
   "metadata": {},
   "outputs": [],
   "source": [
    "# filtering TN LODES data for blocks only in Hamilton county\n",
    "area_lodes = pd.merge(tn_lodes, blocks, left_on='h_geocode', right_on='GEOID20', how='inner').merge(blocks, left_on='w_geocode', right_on='GEOID20', how='inner').sort_values('total_jobs', ascending=False).reset_index(drop=True)"
   ]
  },
  {
   "cell_type": "code",
   "execution_count": 9,
   "metadata": {},
   "outputs": [],
   "source": [
    "# it is stored at the block level (smaller area than CBG)\n",
    "\n",
    "area_lodes.to_csv(f'../data/county_lodes_2019.csv', index=False)"
   ]
  },
  {
   "cell_type": "code",
   "execution_count": 10,
   "metadata": {},
   "outputs": [],
   "source": [
    "#additional \n",
    "\n",
    "# pd.merge(tn_lodes, blocks, left_on='h_geocode', right_on='GEOID20', how='inner').groupby('h_geocode').sum().merge(blocks, left_on='h_geocode', right_on='GEOID20', how='inner').sort_values('total_jobs', ascending=False).reset_index().to_csv('homes_blocks.csv')\n",
    "# pd.merge(tn_lodes, blocks, left_on='w_geocode', right_on='GEOID20', how='inner').groupby('w_geocode').sum().merge(blocks, left_on='w_geocode', right_on='GEOID20', how='inner').sort_values('total_jobs', ascending=False).reset_index().to_csv('work_blocks.csv')"
   ]
  },
  {
   "cell_type": "code",
   "execution_count": 25,
   "metadata": {},
   "outputs": [
    {
     "data": {
      "text/html": [
       "<div>\n",
       "<style scoped>\n",
       "    .dataframe tbody tr th:only-of-type {\n",
       "        vertical-align: middle;\n",
       "    }\n",
       "\n",
       "    .dataframe tbody tr th {\n",
       "        vertical-align: top;\n",
       "    }\n",
       "\n",
       "    .dataframe thead th {\n",
       "        text-align: right;\n",
       "    }\n",
       "</style>\n",
       "<table border=\"1\" class=\"dataframe\">\n",
       "  <thead>\n",
       "    <tr style=\"text-align: right;\">\n",
       "      <th></th>\n",
       "      <th>w_geocode</th>\n",
       "      <th>h_geocode</th>\n",
       "      <th>total_jobs</th>\n",
       "      <th>SA01</th>\n",
       "      <th>SA02</th>\n",
       "      <th>SA03</th>\n",
       "      <th>SE01</th>\n",
       "      <th>SE02</th>\n",
       "      <th>SE03</th>\n",
       "      <th>SI01</th>\n",
       "      <th>SI02</th>\n",
       "      <th>SI03</th>\n",
       "      <th>createdate</th>\n",
       "      <th>GEOID20_x</th>\n",
       "      <th>geometry_x</th>\n",
       "      <th>GEOID20_y</th>\n",
       "      <th>geometry_y</th>\n",
       "    </tr>\n",
       "  </thead>\n",
       "  <tbody>\n",
       "    <tr>\n",
       "      <th>0</th>\n",
       "      <td>471870503061025</td>\n",
       "      <td>471870502071006</td>\n",
       "      <td>9</td>\n",
       "      <td>5</td>\n",
       "      <td>0</td>\n",
       "      <td>4</td>\n",
       "      <td>1</td>\n",
       "      <td>1</td>\n",
       "      <td>7</td>\n",
       "      <td>0</td>\n",
       "      <td>0</td>\n",
       "      <td>9</td>\n",
       "      <td>20211018</td>\n",
       "      <td>471870502071006</td>\n",
       "      <td>POLYGON ((-86.75253 35.98270, -86.75245 35.983...</td>\n",
       "      <td>471870503061025</td>\n",
       "      <td>POLYGON ((-86.81623 35.96750, -86.81572 35.967...</td>\n",
       "    </tr>\n",
       "    <tr>\n",
       "      <th>1</th>\n",
       "      <td>471870510011053</td>\n",
       "      <td>471870510021016</td>\n",
       "      <td>8</td>\n",
       "      <td>0</td>\n",
       "      <td>5</td>\n",
       "      <td>3</td>\n",
       "      <td>2</td>\n",
       "      <td>0</td>\n",
       "      <td>6</td>\n",
       "      <td>0</td>\n",
       "      <td>1</td>\n",
       "      <td>7</td>\n",
       "      <td>20211018</td>\n",
       "      <td>471870510021016</td>\n",
       "      <td>POLYGON ((-86.82491 35.90837, -86.82466 35.910...</td>\n",
       "      <td>471870510011053</td>\n",
       "      <td>POLYGON ((-86.79627 35.92286, -86.79626 35.922...</td>\n",
       "    </tr>\n",
       "    <tr>\n",
       "      <th>2</th>\n",
       "      <td>471870502071006</td>\n",
       "      <td>471870502071006</td>\n",
       "      <td>8</td>\n",
       "      <td>0</td>\n",
       "      <td>3</td>\n",
       "      <td>5</td>\n",
       "      <td>0</td>\n",
       "      <td>0</td>\n",
       "      <td>8</td>\n",
       "      <td>1</td>\n",
       "      <td>1</td>\n",
       "      <td>6</td>\n",
       "      <td>20211018</td>\n",
       "      <td>471870502071006</td>\n",
       "      <td>POLYGON ((-86.75253 35.98270, -86.75245 35.983...</td>\n",
       "      <td>471870502071006</td>\n",
       "      <td>POLYGON ((-86.75253 35.98270, -86.75245 35.983...</td>\n",
       "    </tr>\n",
       "    <tr>\n",
       "      <th>3</th>\n",
       "      <td>471870503061025</td>\n",
       "      <td>471870510021016</td>\n",
       "      <td>8</td>\n",
       "      <td>0</td>\n",
       "      <td>5</td>\n",
       "      <td>3</td>\n",
       "      <td>0</td>\n",
       "      <td>0</td>\n",
       "      <td>8</td>\n",
       "      <td>1</td>\n",
       "      <td>1</td>\n",
       "      <td>6</td>\n",
       "      <td>20211018</td>\n",
       "      <td>471870510021016</td>\n",
       "      <td>POLYGON ((-86.82491 35.90837, -86.82466 35.910...</td>\n",
       "      <td>471870503061025</td>\n",
       "      <td>POLYGON ((-86.81623 35.96750, -86.81572 35.967...</td>\n",
       "    </tr>\n",
       "    <tr>\n",
       "      <th>4</th>\n",
       "      <td>471870509082025</td>\n",
       "      <td>471870509081001</td>\n",
       "      <td>8</td>\n",
       "      <td>7</td>\n",
       "      <td>1</td>\n",
       "      <td>0</td>\n",
       "      <td>5</td>\n",
       "      <td>1</td>\n",
       "      <td>2</td>\n",
       "      <td>0</td>\n",
       "      <td>3</td>\n",
       "      <td>5</td>\n",
       "      <td>20211018</td>\n",
       "      <td>471870509081001</td>\n",
       "      <td>POLYGON ((-86.85644 35.88443, -86.85635 35.884...</td>\n",
       "      <td>471870509082025</td>\n",
       "      <td>POLYGON ((-86.84228 35.87071, -86.84221 35.870...</td>\n",
       "    </tr>\n",
       "  </tbody>\n",
       "</table>\n",
       "</div>"
      ],
      "text/plain": [
       "         w_geocode        h_geocode  total_jobs  SA01  SA02  SA03  SE01  SE02  \\\n",
       "0  471870503061025  471870502071006           9     5     0     4     1     1   \n",
       "1  471870510011053  471870510021016           8     0     5     3     2     0   \n",
       "2  471870502071006  471870502071006           8     0     3     5     0     0   \n",
       "3  471870503061025  471870510021016           8     0     5     3     0     0   \n",
       "4  471870509082025  471870509081001           8     7     1     0     5     1   \n",
       "\n",
       "   SE03  SI01  SI02  SI03  createdate        GEOID20_x  \\\n",
       "0     7     0     0     9    20211018  471870502071006   \n",
       "1     6     0     1     7    20211018  471870510021016   \n",
       "2     8     1     1     6    20211018  471870502071006   \n",
       "3     8     1     1     6    20211018  471870510021016   \n",
       "4     2     0     3     5    20211018  471870509081001   \n",
       "\n",
       "                                          geometry_x        GEOID20_y  \\\n",
       "0  POLYGON ((-86.75253 35.98270, -86.75245 35.983...  471870503061025   \n",
       "1  POLYGON ((-86.82491 35.90837, -86.82466 35.910...  471870510011053   \n",
       "2  POLYGON ((-86.75253 35.98270, -86.75245 35.983...  471870502071006   \n",
       "3  POLYGON ((-86.82491 35.90837, -86.82466 35.910...  471870503061025   \n",
       "4  POLYGON ((-86.85644 35.88443, -86.85635 35.884...  471870509082025   \n",
       "\n",
       "                                          geometry_y  \n",
       "0  POLYGON ((-86.81623 35.96750, -86.81572 35.967...  \n",
       "1  POLYGON ((-86.79627 35.92286, -86.79626 35.922...  \n",
       "2  POLYGON ((-86.75253 35.98270, -86.75245 35.983...  \n",
       "3  POLYGON ((-86.81623 35.96750, -86.81572 35.967...  \n",
       "4  POLYGON ((-86.84228 35.87071, -86.84221 35.870...  "
      ]
     },
     "execution_count": 25,
     "metadata": {},
     "output_type": "execute_result"
    }
   ],
   "source": [
    "area_lodes.head()"
   ]
  },
  {
   "cell_type": "code",
   "execution_count": 17,
   "metadata": {},
   "outputs": [],
   "source": [
    "cbg  = gpd.read_file('../data/Tennessee Census Block Groups/tl_2020_47_bg.shp')\n",
    "# cbg = cbg[cbg.COUNTYFP == COUNTY]\n",
    "# cbg.GEOID = cbg.GEOID.astype(str)"
   ]
  },
  {
   "cell_type": "code",
   "execution_count": 12,
   "metadata": {},
   "outputs": [],
   "source": [
    "cbg.to_csv('../data/county_cbg.csv', index=False)"
   ]
  }
 ],
 "metadata": {
  "kernelspec": {
   "display_name": "Python 3 (ipykernel)",
   "language": "python",
   "name": "python3"
  },
  "language_info": {
   "codemirror_mode": {
    "name": "ipython",
    "version": 3
   },
   "file_extension": ".py",
   "mimetype": "text/x-python",
   "name": "python",
   "nbconvert_exporter": "python",
   "pygments_lexer": "ipython3",
   "version": "3.7.9"
  },
  "vscode": {
   "interpreter": {
    "hash": "c4d0005f5e14f7c00ac58c488a6489dbdddabe86817daaefe3a462e64eae13df"
   }
  }
 },
 "nbformat": 4,
 "nbformat_minor": 2
}
