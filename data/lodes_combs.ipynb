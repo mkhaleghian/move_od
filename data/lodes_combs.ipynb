{
 "cells": [
  {
   "cell_type": "code",
   "execution_count": 1,
   "metadata": {},
   "outputs": [],
   "source": [
    "import pandas as pd\n",
    "import geopandas as gpd\n",
    "import numpy as np"
   ]
  },
  {
   "cell_type": "code",
   "execution_count": 2,
   "metadata": {},
   "outputs": [],
   "source": [
    "from shapely.geometry import Point\n",
    "def intpt_func(row):\n",
    "    return Point(row['INTPTLON'], row['INTPTLAT'])"
   ]
  },
  {
   "cell_type": "code",
   "execution_count": 14,
   "metadata": {},
   "outputs": [
    {
     "name": "stderr",
     "output_type": "stream",
     "text": [
      "c:\\Users\\risha\\AppData\\Local\\Programs\\Python\\Python37\\lib\\site-packages\\pandas\\core\\dtypes\\cast.py:118: ShapelyDeprecationWarning: The array interface is deprecated and will no longer work in Shapely 2.0. Convert the '.coords' to a numpy array instead.\n",
      "  arr = construct_1d_object_array_from_listlike(values)\n"
     ]
    }
   ],
   "source": [
    "#loading LODES data\n",
    "\n",
    "county_lodes = pd.read_csv('../data/county_lodes_2019.csv', dtype={\"TRACTCE20_home\":\"string\", \"TRACTCE20_work\":\"string\"})\n",
    "county_lodes.h_geocode = county_lodes.h_geocode.apply(lambda x: int(x/1000))\n",
    "county_lodes.w_geocode = county_lodes.w_geocode.apply(lambda x: int(x/1000))\n",
    "county_lodes.w_geocode = county_lodes.w_geocode.astype(str)\n",
    "county_lodes.h_geocode = county_lodes.h_geocode.astype(str)\n",
    "\n",
    "#loading Hamilton county geodata\n",
    "county_cbg = pd.read_csv('../data/county_cbg.csv')\n",
    "county_cbg['intpt'] = county_cbg[['INTPTLAT', 'INTPTLON']].apply(lambda p: intpt_func(p), axis=1)\n",
    "county_cbg = gpd.GeoDataFrame(county_cbg, geometry=gpd.GeoSeries.from_wkt(county_cbg.geometry))\n",
    "county_cbg.GEOID = county_cbg.GEOID.astype(str)"
   ]
  },
  {
   "cell_type": "code",
   "execution_count": 5,
   "metadata": {},
   "outputs": [],
   "source": [
    "#loading residential buildings\n",
    "res_build = pd.read_csv('../data/county_residential_buildings.csv', index_col=0)\n",
    "res_build = gpd.GeoDataFrame(res_build, geometry=gpd.GeoSeries.from_wkt(res_build.geometry))\n",
    "res_build['location'] = res_build.geometry.apply(lambda p: [p.y, p.x])\n",
    "\n",
    "#loading work buildings\n",
    "com_build = pd.read_csv('../data/county_work_loc_poi_com_civ.csv', index_col=0)\n",
    "com_build = gpd.GeoDataFrame(com_build, geometry=gpd.GeoSeries.from_wkt(com_build.geometry))\n",
    "com_build['location'] = com_build.geometry.apply(lambda p: [p.y, p.x])\n",
    "com_build = com_build.reset_index()\n",
    "com_build.GEOID = com_build.GEOID.astype(str)\n",
    "\n",
    "#loading all buildings (MS dataset)\n",
    "ms_build = pd.read_csv('../data/county_buildings_MS.csv')\n",
    "ms_build = gpd.GeoDataFrame(ms_build, geometry=gpd.GeoSeries.from_wkt(ms_build.geo_centers))\n",
    "ms_build.GEOID = ms_build.GEOID.astype(str)\n",
    "ms_build['location'] = ms_build.geometry.apply(lambda p: [p.y, p.x])"
   ]
  },
  {
   "cell_type": "code",
   "execution_count": 6,
   "metadata": {},
   "outputs": [],
   "source": [
    "#aggregating total jobs for each combination of home and work cbg \n",
    "county_lodes = county_lodes.groupby(['h_geocode', 'w_geocode']).agg(total_jobs=('total_jobs', sum)).reset_index().merge(county_cbg[['GEOID', 'geometry']], left_on='h_geocode', right_on='GEOID').rename({'geometry':'home_geom'}, axis=1).drop('GEOID', axis=1).merge(county_cbg[['GEOID', 'geometry']], left_on='w_geocode', right_on='GEOID').rename({'geometry':'work_geom'}, axis=1).drop('GEOID', axis=1).sort_values('total_jobs', ascending=False).reset_index(drop=True)\n",
    "county_lodes = gpd.GeoDataFrame(county_lodes)"
   ]
  },
  {
   "cell_type": "code",
   "execution_count": 7,
   "metadata": {},
   "outputs": [],
   "source": [
    "def datetime_range(start, end, delta):\n",
    "    current = start\n",
    "    while current < end:\n",
    "        yield current\n",
    "        current += delta"
   ]
  },
  {
   "cell_type": "code",
   "execution_count": 23,
   "metadata": {},
   "outputs": [],
   "source": [
    "#generating array of start and return times (in 15 min intervals)\n",
    "from datetime  import datetime, timedelta\n",
    "times_morning = [datetime.strptime(dt.strftime('%H%M%S'), '%H%M%S') for dt in \n",
    "       datetime_range(datetime(2019, 9, 1, 7), datetime(2019, 9, 1, 9, 10), \n",
    "       timedelta(seconds=15))]\n",
    "times_evening = [datetime.strptime(dt.strftime('%H%M%S'), '%H%M%S') for dt in \n",
    "       datetime_range(datetime(2019, 9, 1, 16), datetime(2019, 9, 1, 18, 10), \n",
    "       timedelta(seconds=15))]"
   ]
  },
  {
   "cell_type": "code",
   "execution_count": 33,
   "metadata": {},
   "outputs": [
    {
     "data": {
      "text/plain": [
       "25275.0"
      ]
     },
     "execution_count": 33,
     "metadata": {},
     "output_type": "execute_result"
    }
   ],
   "source": [
    "(times_morning[5] - datetime(1900, 1, 1)).total_seconds()\n",
    "# times_morning[1].strftime('%H:%M:%S')"
   ]
  },
  {
   "cell_type": "code",
   "execution_count": 13,
   "metadata": {},
   "outputs": [],
   "source": [
    "res_build.GEOID = res_build.GEOID.astype(str)\n",
    "com_build.GEOID = com_build.GEOID.astype(str)"
   ]
  },
  {
   "cell_type": "code",
   "execution_count": 34,
   "metadata": {},
   "outputs": [
    {
     "data": {
      "application/vnd.jupyter.widget-view+json": {
       "model_id": "f6954f86d33b48738265748267aa65e3",
       "version_major": 2,
       "version_minor": 0
      },
      "text/plain": [
       "  0%|          | 0/63825 [00:00<?, ?it/s]"
      ]
     },
     "metadata": {},
     "output_type": "display_data"
    }
   ],
   "source": [
    "import random\n",
    "import tqdm\n",
    "from tqdm.notebook import tqdm_notebook\n",
    "\n",
    "#setting the random seed\n",
    "np.random.seed(42)\n",
    "random.seed(42)\n",
    "\n",
    "prob_matrix = gpd.GeoDataFrame()\n",
    "for idx, movement in tqdm_notebook(county_lodes.iterrows(), total=county_lodes.shape[0]):\n",
    "\n",
    "    res = res_build[res_build.GEOID == movement.h_geocode].reset_index(drop=True)\n",
    "    if res.empty:\n",
    "        res = ms_build[ms_build.GEOID == movement.h_geocode].sample(n=movement.total_jobs, random_state=42).reset_index(drop=True)\n",
    "\n",
    "    com = com_build[com_build.GEOID == movement.w_geocode].reset_index(drop=True)\n",
    "    if com.empty:\n",
    "        com = ms_build[ms_build.GEOID == movement.w_geocode].sample(n=movement.total_jobs, random_state=42).reset_index(drop=True)\n",
    "        \n",
    "    r = res\n",
    "    c = com\n",
    "   \n",
    "    for job in range(movement.total_jobs):\n",
    "     \n",
    "        if c.empty:\n",
    "            c = com\n",
    "        if r.empty:\n",
    "            r = res\n",
    "\n",
    "        rand_r = random.randrange(0, r.shape[0])\n",
    "        rand_c = random.randrange(0, c.shape[0])\n",
    "        r_df = r.iloc[rand_r]\n",
    "        c_df = c.iloc[rand_c]\n",
    "        r = r.drop([rand_r]).reset_index(drop=True)\n",
    "        c = c.drop([rand_c]).reset_index(drop=True)\n",
    "        \n",
    "        time_slot1 = np.random.choice(times_morning, size=1, replace=True)\n",
    "        time_slot2 = np.random.choice(times_evening, size=1, replace=True)\n",
    "\n",
    "        temp = gpd.GeoDataFrame()\n",
    "\n",
    "        temp.loc[job, 'h_geocode'] = movement.h_geocode\n",
    "        temp.loc[job, 'w_geocode'] = movement.w_geocode\n",
    "        temp.loc[job, 'total_jobs'] = movement.total_jobs\n",
    "        temp.loc[job, 'home_loc_lat'] = r_df.location[0]\n",
    "        temp.loc[job, 'home_loc_lon'] = r_df.location[1]\n",
    "        temp.loc[job, 'work_loc_lat'] = c_df.location[0]\n",
    "        temp.loc[job, 'work_loc_lon'] = c_df.location[1]\n",
    "        temp.loc[job, 'go_time'] = time_slot1[0].time()\n",
    "        temp.loc[job, 'go_time_secs'] = (time_slot1[0] - datetime(1900, 1, 1)).total_seconds()\n",
    "        temp.loc[job, 'go_time_str'] = time_slot1[0].strftime('%H:%M:%S')\n",
    "        temp.loc[job, 'return_time'] = time_slot2[0].time()\n",
    "        temp.loc[job, 'return_time_secs'] = (time_slot2[0] - datetime(1900, 1, 1)).total_seconds()\n",
    "        temp.loc[job, 'return_time_str'] = time_slot2[0].strftime('%H:%M:%S')\n",
    "\n",
    "        prob_matrix = prob_matrix.append(temp, ignore_index=True)"
   ]
  },
  {
   "cell_type": "code",
   "execution_count": 35,
   "metadata": {},
   "outputs": [],
   "source": [
    "def func_home_pt(row):\n",
    "    return Point(row.home_loc_lon, row.home_loc_lat)\n",
    "def func_work_pt(row):\n",
    "    return Point(row.work_loc_lon, row.work_loc_lat)"
   ]
  },
  {
   "cell_type": "code",
   "execution_count": 36,
   "metadata": {},
   "outputs": [
    {
     "name": "stderr",
     "output_type": "stream",
     "text": [
      "c:\\Users\\risha\\AppData\\Local\\Programs\\Python\\Python37\\lib\\site-packages\\pandas\\core\\dtypes\\cast.py:118: ShapelyDeprecationWarning: The array interface is deprecated and will no longer work in Shapely 2.0. Convert the '.coords' to a numpy array instead.\n",
      "  arr = construct_1d_object_array_from_listlike(values)\n",
      "c:\\Users\\risha\\AppData\\Local\\Programs\\Python\\Python37\\lib\\site-packages\\pandas\\core\\dtypes\\cast.py:118: ShapelyDeprecationWarning: The array interface is deprecated and will no longer work in Shapely 2.0. Convert the '.coords' to a numpy array instead.\n",
      "  arr = construct_1d_object_array_from_listlike(values)\n"
     ]
    }
   ],
   "source": [
    "# convert the lat and lon points to shapely Points\n",
    "prob_matrix['home_geom'] = prob_matrix[['home_loc_lat', 'home_loc_lon']].apply(lambda row: func_home_pt(row), axis=1)\n",
    "prob_matrix['work_geom'] = prob_matrix[['work_loc_lat', 'work_loc_lon']].apply(lambda row: func_work_pt(row), axis=1)\n",
    "prob_matrix.h_geocode = prob_matrix.h_geocode.astype(str)\n",
    "prob_matrix.w_geocode = prob_matrix.w_geocode.astype(str)"
   ]
  },
  {
   "cell_type": "code",
   "execution_count": 38,
   "metadata": {},
   "outputs": [
    {
     "data": {
      "text/html": [
       "<div>\n",
       "<style scoped>\n",
       "    .dataframe tbody tr th:only-of-type {\n",
       "        vertical-align: middle;\n",
       "    }\n",
       "\n",
       "    .dataframe tbody tr th {\n",
       "        vertical-align: top;\n",
       "    }\n",
       "\n",
       "    .dataframe thead th {\n",
       "        text-align: right;\n",
       "    }\n",
       "</style>\n",
       "<table border=\"1\" class=\"dataframe\">\n",
       "  <thead>\n",
       "    <tr style=\"text-align: right;\">\n",
       "      <th></th>\n",
       "      <th>h_geocode</th>\n",
       "      <th>w_geocode</th>\n",
       "      <th>total_jobs</th>\n",
       "      <th>home_loc_lat</th>\n",
       "      <th>home_loc_lon</th>\n",
       "      <th>work_loc_lat</th>\n",
       "      <th>work_loc_lon</th>\n",
       "      <th>go_time</th>\n",
       "      <th>go_time_secs</th>\n",
       "      <th>go_time_str</th>\n",
       "      <th>return_time</th>\n",
       "      <th>return_time_secs</th>\n",
       "      <th>return_time_str</th>\n",
       "      <th>home_geom</th>\n",
       "      <th>work_geom</th>\n",
       "    </tr>\n",
       "  </thead>\n",
       "  <tbody>\n",
       "    <tr>\n",
       "      <th>0</th>\n",
       "      <td>470370165002</td>\n",
       "      <td>470370165002</td>\n",
       "      <td>104.0</td>\n",
       "      <td>36.144515</td>\n",
       "      <td>-86.804675</td>\n",
       "      <td>36.139164</td>\n",
       "      <td>-86.801478</td>\n",
       "      <td>07:25:30</td>\n",
       "      <td>26730.0</td>\n",
       "      <td>07:25:30</td>\n",
       "      <td>17:48:45</td>\n",
       "      <td>64125.0</td>\n",
       "      <td>17:48:45</td>\n",
       "      <td>POINT (-86.80467509713218 36.14451501842736)</td>\n",
       "      <td>POINT (-86.80147778059765 36.13916402739309)</td>\n",
       "    </tr>\n",
       "    <tr>\n",
       "      <th>1</th>\n",
       "      <td>470370165002</td>\n",
       "      <td>470370165002</td>\n",
       "      <td>104.0</td>\n",
       "      <td>36.147068</td>\n",
       "      <td>-86.804350</td>\n",
       "      <td>36.145383</td>\n",
       "      <td>-86.803053</td>\n",
       "      <td>08:07:30</td>\n",
       "      <td>29250.0</td>\n",
       "      <td>08:07:30</td>\n",
       "      <td>16:26:30</td>\n",
       "      <td>59190.0</td>\n",
       "      <td>16:26:30</td>\n",
       "      <td>POINT (-86.80435042758323 36.14706795997379)</td>\n",
       "      <td>POINT (-86.8030527333781 36.14538287515627)</td>\n",
       "    </tr>\n",
       "    <tr>\n",
       "      <th>2</th>\n",
       "      <td>470370165002</td>\n",
       "      <td>470370165002</td>\n",
       "      <td>104.0</td>\n",
       "      <td>36.139983</td>\n",
       "      <td>-86.806641</td>\n",
       "      <td>36.144534</td>\n",
       "      <td>-86.800582</td>\n",
       "      <td>07:17:45</td>\n",
       "      <td>26265.0</td>\n",
       "      <td>07:17:45</td>\n",
       "      <td>16:05:00</td>\n",
       "      <td>57900.0</td>\n",
       "      <td>16:05:00</td>\n",
       "      <td>POINT (-86.80664140025164 36.13998250452984)</td>\n",
       "      <td>POINT (-86.80058155485116 36.14453437806355)</td>\n",
       "    </tr>\n",
       "    <tr>\n",
       "      <th>3</th>\n",
       "      <td>470370165002</td>\n",
       "      <td>470370165002</td>\n",
       "      <td>104.0</td>\n",
       "      <td>36.141190</td>\n",
       "      <td>-86.805937</td>\n",
       "      <td>36.141609</td>\n",
       "      <td>-86.800945</td>\n",
       "      <td>07:30:15</td>\n",
       "      <td>27015.0</td>\n",
       "      <td>07:30:15</td>\n",
       "      <td>17:56:30</td>\n",
       "      <td>64590.0</td>\n",
       "      <td>17:56:30</td>\n",
       "      <td>POINT (-86.80593675735163 36.14119007450109)</td>\n",
       "      <td>POINT (-86.80094516529478 36.14160931321479)</td>\n",
       "    </tr>\n",
       "    <tr>\n",
       "      <th>4</th>\n",
       "      <td>470370165002</td>\n",
       "      <td>470370165002</td>\n",
       "      <td>104.0</td>\n",
       "      <td>36.145246</td>\n",
       "      <td>-86.805230</td>\n",
       "      <td>36.141086</td>\n",
       "      <td>-86.800813</td>\n",
       "      <td>07:53:30</td>\n",
       "      <td>28410.0</td>\n",
       "      <td>07:53:30</td>\n",
       "      <td>17:22:30</td>\n",
       "      <td>62550.0</td>\n",
       "      <td>17:22:30</td>\n",
       "      <td>POINT (-86.80522989365296 36.14524616558946)</td>\n",
       "      <td>POINT (-86.80081320000002 36.14108625)</td>\n",
       "    </tr>\n",
       "  </tbody>\n",
       "</table>\n",
       "</div>"
      ],
      "text/plain": [
       "      h_geocode     w_geocode  total_jobs  home_loc_lat  home_loc_lon  \\\n",
       "0  470370165002  470370165002       104.0     36.144515    -86.804675   \n",
       "1  470370165002  470370165002       104.0     36.147068    -86.804350   \n",
       "2  470370165002  470370165002       104.0     36.139983    -86.806641   \n",
       "3  470370165002  470370165002       104.0     36.141190    -86.805937   \n",
       "4  470370165002  470370165002       104.0     36.145246    -86.805230   \n",
       "\n",
       "   work_loc_lat  work_loc_lon   go_time  go_time_secs go_time_str return_time  \\\n",
       "0     36.139164    -86.801478  07:25:30       26730.0    07:25:30    17:48:45   \n",
       "1     36.145383    -86.803053  08:07:30       29250.0    08:07:30    16:26:30   \n",
       "2     36.144534    -86.800582  07:17:45       26265.0    07:17:45    16:05:00   \n",
       "3     36.141609    -86.800945  07:30:15       27015.0    07:30:15    17:56:30   \n",
       "4     36.141086    -86.800813  07:53:30       28410.0    07:53:30    17:22:30   \n",
       "\n",
       "   return_time_secs return_time_str  \\\n",
       "0           64125.0        17:48:45   \n",
       "1           59190.0        16:26:30   \n",
       "2           57900.0        16:05:00   \n",
       "3           64590.0        17:56:30   \n",
       "4           62550.0        17:22:30   \n",
       "\n",
       "                                      home_geom  \\\n",
       "0  POINT (-86.80467509713218 36.14451501842736)   \n",
       "1  POINT (-86.80435042758323 36.14706795997379)   \n",
       "2  POINT (-86.80664140025164 36.13998250452984)   \n",
       "3  POINT (-86.80593675735163 36.14119007450109)   \n",
       "4  POINT (-86.80522989365296 36.14524616558946)   \n",
       "\n",
       "                                      work_geom  \n",
       "0  POINT (-86.80147778059765 36.13916402739309)  \n",
       "1   POINT (-86.8030527333781 36.14538287515627)  \n",
       "2  POINT (-86.80058155485116 36.14453437806355)  \n",
       "3  POINT (-86.80094516529478 36.14160931321479)  \n",
       "4        POINT (-86.80081320000002 36.14108625)  "
      ]
     },
     "execution_count": 38,
     "metadata": {},
     "output_type": "execute_result"
    }
   ],
   "source": [
    "prob_matrix.head()"
   ]
  },
  {
   "cell_type": "code",
   "execution_count": 42,
   "metadata": {},
   "outputs": [
    {
     "name": "stderr",
     "output_type": "stream",
     "text": [
      "c:\\Users\\risha\\AppData\\Local\\Programs\\Python\\Python37\\lib\\site-packages\\ipykernel_launcher.py:2: UserWarning: this is an initial implementation of Parquet/Feather file support and associated metadata.  This is tracking version 0.1.0 of the metadata specification at https://github.com/geopandas/geo-arrow-spec\n",
      "\n",
      "This metadata specification does not yet make stability promises.  We do not yet recommend using this in a production setting unless you are able to rewrite your Parquet/Feather files.\n",
      "\n",
      "To further ignore this warning, you can do: \n",
      "import warnings; warnings.filterwarnings('ignore', message='.*initial implementation of Parquet.*')\n",
      "  \n"
     ]
    },
    {
     "ename": "ArrowInvalid",
     "evalue": "('Could not convert <shapely.geometry.point.Point object at 0x0000026ECA54C748> with type Point: did not recognize Python value type when inferring an Arrow data type', 'Conversion failed for column home_geom with type object')",
     "output_type": "error",
     "traceback": [
      "\u001b[1;31m---------------------------------------------------------------------------\u001b[0m",
      "\u001b[1;31mArrowInvalid\u001b[0m                              Traceback (most recent call last)",
      "\u001b[1;32m~\\AppData\\Local\\Temp/ipykernel_52748/1495130453.py\u001b[0m in \u001b[0;36m<module>\u001b[1;34m\u001b[0m\n\u001b[0;32m      1\u001b[0m \u001b[1;31m# prob_matrix.to_csv('../data/county_lodes_combinations.csv', index=False)\u001b[0m\u001b[1;33m\u001b[0m\u001b[1;33m\u001b[0m\u001b[1;33m\u001b[0m\u001b[0m\n\u001b[1;32m----> 2\u001b[1;33m \u001b[0mprob_matrix\u001b[0m\u001b[1;33m.\u001b[0m\u001b[0mto_parquet\u001b[0m\u001b[1;33m(\u001b[0m\u001b[1;34m'../data/county_lodes_combinations.parquet'\u001b[0m\u001b[1;33m,\u001b[0m \u001b[0mengine\u001b[0m\u001b[1;33m=\u001b[0m\u001b[1;34m'pyarrow'\u001b[0m\u001b[1;33m,\u001b[0m \u001b[0mindex\u001b[0m\u001b[1;33m=\u001b[0m\u001b[1;32mFalse\u001b[0m\u001b[1;33m)\u001b[0m\u001b[1;33m\u001b[0m\u001b[1;33m\u001b[0m\u001b[0m\n\u001b[0m",
      "\u001b[1;32mc:\\Users\\risha\\AppData\\Local\\Programs\\Python\\Python37\\lib\\site-packages\\geopandas\\geodataframe.py\u001b[0m in \u001b[0;36mto_parquet\u001b[1;34m(self, path, index, compression, **kwargs)\u001b[0m\n\u001b[0;32m    999\u001b[0m         \u001b[1;32mfrom\u001b[0m \u001b[0mgeopandas\u001b[0m\u001b[1;33m.\u001b[0m\u001b[0mio\u001b[0m\u001b[1;33m.\u001b[0m\u001b[0marrow\u001b[0m \u001b[1;32mimport\u001b[0m \u001b[0m_to_parquet\u001b[0m\u001b[1;33m\u001b[0m\u001b[1;33m\u001b[0m\u001b[0m\n\u001b[0;32m   1000\u001b[0m \u001b[1;33m\u001b[0m\u001b[0m\n\u001b[1;32m-> 1001\u001b[1;33m         \u001b[0m_to_parquet\u001b[0m\u001b[1;33m(\u001b[0m\u001b[0mself\u001b[0m\u001b[1;33m,\u001b[0m \u001b[0mpath\u001b[0m\u001b[1;33m,\u001b[0m \u001b[0mcompression\u001b[0m\u001b[1;33m=\u001b[0m\u001b[0mcompression\u001b[0m\u001b[1;33m,\u001b[0m \u001b[0mindex\u001b[0m\u001b[1;33m=\u001b[0m\u001b[0mindex\u001b[0m\u001b[1;33m,\u001b[0m \u001b[1;33m**\u001b[0m\u001b[0mkwargs\u001b[0m\u001b[1;33m)\u001b[0m\u001b[1;33m\u001b[0m\u001b[1;33m\u001b[0m\u001b[0m\n\u001b[0m\u001b[0;32m   1002\u001b[0m \u001b[1;33m\u001b[0m\u001b[0m\n\u001b[0;32m   1003\u001b[0m     \u001b[1;32mdef\u001b[0m \u001b[0mto_feather\u001b[0m\u001b[1;33m(\u001b[0m\u001b[0mself\u001b[0m\u001b[1;33m,\u001b[0m \u001b[0mpath\u001b[0m\u001b[1;33m,\u001b[0m \u001b[0mindex\u001b[0m\u001b[1;33m=\u001b[0m\u001b[1;32mNone\u001b[0m\u001b[1;33m,\u001b[0m \u001b[0mcompression\u001b[0m\u001b[1;33m=\u001b[0m\u001b[1;32mNone\u001b[0m\u001b[1;33m,\u001b[0m \u001b[1;33m**\u001b[0m\u001b[0mkwargs\u001b[0m\u001b[1;33m)\u001b[0m\u001b[1;33m:\u001b[0m\u001b[1;33m\u001b[0m\u001b[1;33m\u001b[0m\u001b[0m\n",
      "\u001b[1;32mc:\\Users\\risha\\AppData\\Local\\Programs\\Python\\Python37\\lib\\site-packages\\geopandas\\io\\arrow.py\u001b[0m in \u001b[0;36m_to_parquet\u001b[1;34m(df, path, index, compression, **kwargs)\u001b[0m\n\u001b[0;32m    245\u001b[0m \u001b[1;33m\u001b[0m\u001b[0m\n\u001b[0;32m    246\u001b[0m     \u001b[0mpath\u001b[0m \u001b[1;33m=\u001b[0m \u001b[0m_expand_user\u001b[0m\u001b[1;33m(\u001b[0m\u001b[0mpath\u001b[0m\u001b[1;33m)\u001b[0m\u001b[1;33m\u001b[0m\u001b[1;33m\u001b[0m\u001b[0m\n\u001b[1;32m--> 247\u001b[1;33m     \u001b[0mtable\u001b[0m \u001b[1;33m=\u001b[0m \u001b[0m_geopandas_to_arrow\u001b[0m\u001b[1;33m(\u001b[0m\u001b[0mdf\u001b[0m\u001b[1;33m,\u001b[0m \u001b[0mindex\u001b[0m\u001b[1;33m=\u001b[0m\u001b[0mindex\u001b[0m\u001b[1;33m)\u001b[0m\u001b[1;33m\u001b[0m\u001b[1;33m\u001b[0m\u001b[0m\n\u001b[0m\u001b[0;32m    248\u001b[0m     \u001b[0mparquet\u001b[0m\u001b[1;33m.\u001b[0m\u001b[0mwrite_table\u001b[0m\u001b[1;33m(\u001b[0m\u001b[0mtable\u001b[0m\u001b[1;33m,\u001b[0m \u001b[0mpath\u001b[0m\u001b[1;33m,\u001b[0m \u001b[0mcompression\u001b[0m\u001b[1;33m=\u001b[0m\u001b[0mcompression\u001b[0m\u001b[1;33m,\u001b[0m \u001b[1;33m**\u001b[0m\u001b[0mkwargs\u001b[0m\u001b[1;33m)\u001b[0m\u001b[1;33m\u001b[0m\u001b[1;33m\u001b[0m\u001b[0m\n\u001b[0;32m    249\u001b[0m \u001b[1;33m\u001b[0m\u001b[0m\n",
      "\u001b[1;32mc:\\Users\\risha\\AppData\\Local\\Programs\\Python\\Python37\\lib\\site-packages\\geopandas\\io\\arrow.py\u001b[0m in \u001b[0;36m_geopandas_to_arrow\u001b[1;34m(df, index)\u001b[0m\n\u001b[0;32m    197\u001b[0m     \u001b[0mdf\u001b[0m \u001b[1;33m=\u001b[0m \u001b[0mdf\u001b[0m\u001b[1;33m.\u001b[0m\u001b[0mto_wkb\u001b[0m\u001b[1;33m(\u001b[0m\u001b[1;33m)\u001b[0m\u001b[1;33m\u001b[0m\u001b[1;33m\u001b[0m\u001b[0m\n\u001b[0;32m    198\u001b[0m \u001b[1;33m\u001b[0m\u001b[0m\n\u001b[1;32m--> 199\u001b[1;33m     \u001b[0mtable\u001b[0m \u001b[1;33m=\u001b[0m \u001b[0mTable\u001b[0m\u001b[1;33m.\u001b[0m\u001b[0mfrom_pandas\u001b[0m\u001b[1;33m(\u001b[0m\u001b[0mdf\u001b[0m\u001b[1;33m,\u001b[0m \u001b[0mpreserve_index\u001b[0m\u001b[1;33m=\u001b[0m\u001b[0mindex\u001b[0m\u001b[1;33m)\u001b[0m\u001b[1;33m\u001b[0m\u001b[1;33m\u001b[0m\u001b[0m\n\u001b[0m\u001b[0;32m    200\u001b[0m \u001b[1;33m\u001b[0m\u001b[0m\n\u001b[0;32m    201\u001b[0m     \u001b[1;31m# Store geopandas specific file-level metadata\u001b[0m\u001b[1;33m\u001b[0m\u001b[1;33m\u001b[0m\u001b[1;33m\u001b[0m\u001b[0m\n",
      "\u001b[1;32mc:\\Users\\risha\\AppData\\Local\\Programs\\Python\\Python37\\lib\\site-packages\\pyarrow\\table.pxi\u001b[0m in \u001b[0;36mpyarrow.lib.Table.from_pandas\u001b[1;34m()\u001b[0m\n",
      "\u001b[1;32mc:\\Users\\risha\\AppData\\Local\\Programs\\Python\\Python37\\lib\\site-packages\\pyarrow\\pandas_compat.py\u001b[0m in \u001b[0;36mdataframe_to_arrays\u001b[1;34m(df, schema, preserve_index, nthreads, columns, safe)\u001b[0m\n\u001b[0;32m    605\u001b[0m         \u001b[1;32mfor\u001b[0m \u001b[0mi\u001b[0m\u001b[1;33m,\u001b[0m \u001b[0mmaybe_fut\u001b[0m \u001b[1;32min\u001b[0m \u001b[0menumerate\u001b[0m\u001b[1;33m(\u001b[0m\u001b[0marrays\u001b[0m\u001b[1;33m)\u001b[0m\u001b[1;33m:\u001b[0m\u001b[1;33m\u001b[0m\u001b[1;33m\u001b[0m\u001b[0m\n\u001b[0;32m    606\u001b[0m             \u001b[1;32mif\u001b[0m \u001b[0misinstance\u001b[0m\u001b[1;33m(\u001b[0m\u001b[0mmaybe_fut\u001b[0m\u001b[1;33m,\u001b[0m \u001b[0mfutures\u001b[0m\u001b[1;33m.\u001b[0m\u001b[0mFuture\u001b[0m\u001b[1;33m)\u001b[0m\u001b[1;33m:\u001b[0m\u001b[1;33m\u001b[0m\u001b[1;33m\u001b[0m\u001b[0m\n\u001b[1;32m--> 607\u001b[1;33m                 \u001b[0marrays\u001b[0m\u001b[1;33m[\u001b[0m\u001b[0mi\u001b[0m\u001b[1;33m]\u001b[0m \u001b[1;33m=\u001b[0m \u001b[0mmaybe_fut\u001b[0m\u001b[1;33m.\u001b[0m\u001b[0mresult\u001b[0m\u001b[1;33m(\u001b[0m\u001b[1;33m)\u001b[0m\u001b[1;33m\u001b[0m\u001b[1;33m\u001b[0m\u001b[0m\n\u001b[0m\u001b[0;32m    608\u001b[0m \u001b[1;33m\u001b[0m\u001b[0m\n\u001b[0;32m    609\u001b[0m     \u001b[0mtypes\u001b[0m \u001b[1;33m=\u001b[0m \u001b[1;33m[\u001b[0m\u001b[0mx\u001b[0m\u001b[1;33m.\u001b[0m\u001b[0mtype\u001b[0m \u001b[1;32mfor\u001b[0m \u001b[0mx\u001b[0m \u001b[1;32min\u001b[0m \u001b[0marrays\u001b[0m\u001b[1;33m]\u001b[0m\u001b[1;33m\u001b[0m\u001b[1;33m\u001b[0m\u001b[0m\n",
      "\u001b[1;32mc:\\Users\\risha\\AppData\\Local\\Programs\\Python\\Python37\\lib\\concurrent\\futures\\_base.py\u001b[0m in \u001b[0;36mresult\u001b[1;34m(self, timeout)\u001b[0m\n\u001b[0;32m    426\u001b[0m                 \u001b[1;32mraise\u001b[0m \u001b[0mCancelledError\u001b[0m\u001b[1;33m(\u001b[0m\u001b[1;33m)\u001b[0m\u001b[1;33m\u001b[0m\u001b[1;33m\u001b[0m\u001b[0m\n\u001b[0;32m    427\u001b[0m             \u001b[1;32melif\u001b[0m \u001b[0mself\u001b[0m\u001b[1;33m.\u001b[0m\u001b[0m_state\u001b[0m \u001b[1;33m==\u001b[0m \u001b[0mFINISHED\u001b[0m\u001b[1;33m:\u001b[0m\u001b[1;33m\u001b[0m\u001b[1;33m\u001b[0m\u001b[0m\n\u001b[1;32m--> 428\u001b[1;33m                 \u001b[1;32mreturn\u001b[0m \u001b[0mself\u001b[0m\u001b[1;33m.\u001b[0m\u001b[0m__get_result\u001b[0m\u001b[1;33m(\u001b[0m\u001b[1;33m)\u001b[0m\u001b[1;33m\u001b[0m\u001b[1;33m\u001b[0m\u001b[0m\n\u001b[0m\u001b[0;32m    429\u001b[0m \u001b[1;33m\u001b[0m\u001b[0m\n\u001b[0;32m    430\u001b[0m             \u001b[0mself\u001b[0m\u001b[1;33m.\u001b[0m\u001b[0m_condition\u001b[0m\u001b[1;33m.\u001b[0m\u001b[0mwait\u001b[0m\u001b[1;33m(\u001b[0m\u001b[0mtimeout\u001b[0m\u001b[1;33m)\u001b[0m\u001b[1;33m\u001b[0m\u001b[1;33m\u001b[0m\u001b[0m\n",
      "\u001b[1;32mc:\\Users\\risha\\AppData\\Local\\Programs\\Python\\Python37\\lib\\concurrent\\futures\\_base.py\u001b[0m in \u001b[0;36m__get_result\u001b[1;34m(self)\u001b[0m\n\u001b[0;32m    382\u001b[0m     \u001b[1;32mdef\u001b[0m \u001b[0m__get_result\u001b[0m\u001b[1;33m(\u001b[0m\u001b[0mself\u001b[0m\u001b[1;33m)\u001b[0m\u001b[1;33m:\u001b[0m\u001b[1;33m\u001b[0m\u001b[1;33m\u001b[0m\u001b[0m\n\u001b[0;32m    383\u001b[0m         \u001b[1;32mif\u001b[0m \u001b[0mself\u001b[0m\u001b[1;33m.\u001b[0m\u001b[0m_exception\u001b[0m\u001b[1;33m:\u001b[0m\u001b[1;33m\u001b[0m\u001b[1;33m\u001b[0m\u001b[0m\n\u001b[1;32m--> 384\u001b[1;33m             \u001b[1;32mraise\u001b[0m \u001b[0mself\u001b[0m\u001b[1;33m.\u001b[0m\u001b[0m_exception\u001b[0m\u001b[1;33m\u001b[0m\u001b[1;33m\u001b[0m\u001b[0m\n\u001b[0m\u001b[0;32m    385\u001b[0m         \u001b[1;32melse\u001b[0m\u001b[1;33m:\u001b[0m\u001b[1;33m\u001b[0m\u001b[1;33m\u001b[0m\u001b[0m\n\u001b[0;32m    386\u001b[0m             \u001b[1;32mreturn\u001b[0m \u001b[0mself\u001b[0m\u001b[1;33m.\u001b[0m\u001b[0m_result\u001b[0m\u001b[1;33m\u001b[0m\u001b[1;33m\u001b[0m\u001b[0m\n",
      "\u001b[1;32mc:\\Users\\risha\\AppData\\Local\\Programs\\Python\\Python37\\lib\\concurrent\\futures\\thread.py\u001b[0m in \u001b[0;36mrun\u001b[1;34m(self)\u001b[0m\n\u001b[0;32m     55\u001b[0m \u001b[1;33m\u001b[0m\u001b[0m\n\u001b[0;32m     56\u001b[0m         \u001b[1;32mtry\u001b[0m\u001b[1;33m:\u001b[0m\u001b[1;33m\u001b[0m\u001b[1;33m\u001b[0m\u001b[0m\n\u001b[1;32m---> 57\u001b[1;33m             \u001b[0mresult\u001b[0m \u001b[1;33m=\u001b[0m \u001b[0mself\u001b[0m\u001b[1;33m.\u001b[0m\u001b[0mfn\u001b[0m\u001b[1;33m(\u001b[0m\u001b[1;33m*\u001b[0m\u001b[0mself\u001b[0m\u001b[1;33m.\u001b[0m\u001b[0margs\u001b[0m\u001b[1;33m,\u001b[0m \u001b[1;33m**\u001b[0m\u001b[0mself\u001b[0m\u001b[1;33m.\u001b[0m\u001b[0mkwargs\u001b[0m\u001b[1;33m)\u001b[0m\u001b[1;33m\u001b[0m\u001b[1;33m\u001b[0m\u001b[0m\n\u001b[0m\u001b[0;32m     58\u001b[0m         \u001b[1;32mexcept\u001b[0m \u001b[0mBaseException\u001b[0m \u001b[1;32mas\u001b[0m \u001b[0mexc\u001b[0m\u001b[1;33m:\u001b[0m\u001b[1;33m\u001b[0m\u001b[1;33m\u001b[0m\u001b[0m\n\u001b[0;32m     59\u001b[0m             \u001b[0mself\u001b[0m\u001b[1;33m.\u001b[0m\u001b[0mfuture\u001b[0m\u001b[1;33m.\u001b[0m\u001b[0mset_exception\u001b[0m\u001b[1;33m(\u001b[0m\u001b[0mexc\u001b[0m\u001b[1;33m)\u001b[0m\u001b[1;33m\u001b[0m\u001b[1;33m\u001b[0m\u001b[0m\n",
      "\u001b[1;32mc:\\Users\\risha\\AppData\\Local\\Programs\\Python\\Python37\\lib\\site-packages\\pyarrow\\pandas_compat.py\u001b[0m in \u001b[0;36mconvert_column\u001b[1;34m(col, field)\u001b[0m\n\u001b[0;32m    579\u001b[0m             e.args += (\"Conversion failed for column {!s} with type {!s}\"\n\u001b[0;32m    580\u001b[0m                        .format(col.name, col.dtype),)\n\u001b[1;32m--> 581\u001b[1;33m             \u001b[1;32mraise\u001b[0m \u001b[0me\u001b[0m\u001b[1;33m\u001b[0m\u001b[1;33m\u001b[0m\u001b[0m\n\u001b[0m\u001b[0;32m    582\u001b[0m         \u001b[1;32mif\u001b[0m \u001b[1;32mnot\u001b[0m \u001b[0mfield_nullable\u001b[0m \u001b[1;32mand\u001b[0m \u001b[0mresult\u001b[0m\u001b[1;33m.\u001b[0m\u001b[0mnull_count\u001b[0m \u001b[1;33m>\u001b[0m \u001b[1;36m0\u001b[0m\u001b[1;33m:\u001b[0m\u001b[1;33m\u001b[0m\u001b[1;33m\u001b[0m\u001b[0m\n\u001b[0;32m    583\u001b[0m             raise ValueError(\"Field {} was non-nullable but pandas column \"\n",
      "\u001b[1;32mc:\\Users\\risha\\AppData\\Local\\Programs\\Python\\Python37\\lib\\site-packages\\pyarrow\\pandas_compat.py\u001b[0m in \u001b[0;36mconvert_column\u001b[1;34m(col, field)\u001b[0m\n\u001b[0;32m    573\u001b[0m \u001b[1;33m\u001b[0m\u001b[0m\n\u001b[0;32m    574\u001b[0m         \u001b[1;32mtry\u001b[0m\u001b[1;33m:\u001b[0m\u001b[1;33m\u001b[0m\u001b[1;33m\u001b[0m\u001b[0m\n\u001b[1;32m--> 575\u001b[1;33m             \u001b[0mresult\u001b[0m \u001b[1;33m=\u001b[0m \u001b[0mpa\u001b[0m\u001b[1;33m.\u001b[0m\u001b[0marray\u001b[0m\u001b[1;33m(\u001b[0m\u001b[0mcol\u001b[0m\u001b[1;33m,\u001b[0m \u001b[0mtype\u001b[0m\u001b[1;33m=\u001b[0m\u001b[0mtype_\u001b[0m\u001b[1;33m,\u001b[0m \u001b[0mfrom_pandas\u001b[0m\u001b[1;33m=\u001b[0m\u001b[1;32mTrue\u001b[0m\u001b[1;33m,\u001b[0m \u001b[0msafe\u001b[0m\u001b[1;33m=\u001b[0m\u001b[0msafe\u001b[0m\u001b[1;33m)\u001b[0m\u001b[1;33m\u001b[0m\u001b[1;33m\u001b[0m\u001b[0m\n\u001b[0m\u001b[0;32m    576\u001b[0m         except (pa.ArrowInvalid,\n\u001b[0;32m    577\u001b[0m                 \u001b[0mpa\u001b[0m\u001b[1;33m.\u001b[0m\u001b[0mArrowNotImplementedError\u001b[0m\u001b[1;33m,\u001b[0m\u001b[1;33m\u001b[0m\u001b[1;33m\u001b[0m\u001b[0m\n",
      "\u001b[1;32mc:\\Users\\risha\\AppData\\Local\\Programs\\Python\\Python37\\lib\\site-packages\\pyarrow\\array.pxi\u001b[0m in \u001b[0;36mpyarrow.lib.array\u001b[1;34m()\u001b[0m\n",
      "\u001b[1;32mc:\\Users\\risha\\AppData\\Local\\Programs\\Python\\Python37\\lib\\site-packages\\pyarrow\\array.pxi\u001b[0m in \u001b[0;36mpyarrow.lib._ndarray_to_array\u001b[1;34m()\u001b[0m\n",
      "\u001b[1;32mc:\\Users\\risha\\AppData\\Local\\Programs\\Python\\Python37\\lib\\site-packages\\pyarrow\\error.pxi\u001b[0m in \u001b[0;36mpyarrow.lib.check_status\u001b[1;34m()\u001b[0m\n",
      "\u001b[1;31mArrowInvalid\u001b[0m: ('Could not convert <shapely.geometry.point.Point object at 0x0000026ECA54C748> with type Point: did not recognize Python value type when inferring an Arrow data type', 'Conversion failed for column home_geom with type object')"
     ]
    }
   ],
   "source": [
    "prob_matrix.to_csv('../data/county_lodes_combinations.csv', index=False)\n",
    "# prob_matrix.to_parquet('../data/county_lodes_combinations.parquet', engine='pyarrow', index=False)"
   ]
  }
 ],
 "metadata": {
  "kernelspec": {
   "display_name": "Python 3.7.9 64-bit",
   "language": "python",
   "name": "python3"
  },
  "language_info": {
   "codemirror_mode": {
    "name": "ipython",
    "version": 3
   },
   "file_extension": ".py",
   "mimetype": "text/x-python",
   "name": "python",
   "nbconvert_exporter": "python",
   "pygments_lexer": "ipython3",
   "version": "3.7.9"
  },
  "orig_nbformat": 4,
  "vscode": {
   "interpreter": {
    "hash": "f3f71acbe028193bc0bf25c7bbd98f54ca429f192d17b6451f61294f7eafb542"
   }
  }
 },
 "nbformat": 4,
 "nbformat_minor": 2
}
